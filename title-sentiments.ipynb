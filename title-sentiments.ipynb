{
 "cells": [
  {
   "cell_type": "code",
   "execution_count": null,
   "id": "d83a5116",
   "metadata": {},
   "outputs": [],
   "source": [
    "import json\n",
    "import pickle\n",
    "import pandas as pd\n",
    "import numpy as np\n",
    "import langid\n",
    "import re\n",
    "import emoji\n",
    "import seaborn as sns\n",
    "import matplotlib.pyplot as plt\n",
    "from textblob import TextBlob\n",
    "from wordcloud import WordCloud\n",
    "from nltk.tokenize import word_tokenize\n",
    "from nltk.corpus import stopwords\n",
    "from vaderSentiment.vaderSentiment import SentimentIntensityAnalyzer\n",
    "vader = SentimentIntensityAnalyzer()\n",
    "import nltk\n",
    "nltk.download('stopwords')\n",
    "nltk.download('punkt')"
   ]
  },
  {
   "cell_type": "markdown",
   "id": "6bbbd110",
   "metadata": {},
   "source": [
    "**Importing the youtube dataset, removing duplicates and missing values**"
   ]
  },
  {
   "cell_type": "code",
   "execution_count": null,
   "id": "348eeb3e",
   "metadata": {},
   "outputs": [],
   "source": [
    "# Load youtube dataset\n",
    "df_youtube_dataset = pd.read_csv(\"./US_youtube_trending_data.csv\")\n",
    "print(df_youtube_dataset.shape)\n",
    "df_youtube_dataset.head()"
   ]
  },
  {
   "cell_type": "code",
   "execution_count": null,
   "id": "5b5ed6e3",
   "metadata": {},
   "outputs": [],
   "source": [
    "# Check for missing values in dataset\n",
    "missing_values = df_youtube_dataset.isnull().sum()\n",
    "print(missing_values)\n"
   ]
  },
  {
   "cell_type": "code",
   "execution_count": null,
   "id": "05584ac3",
   "metadata": {},
   "outputs": [],
   "source": [
    "#Check for duplicates in dataset\n",
    "duplicate_rows = df_youtube_dataset[df_youtube_dataset.duplicated()]\n",
    "print(\"Duplicate Rows:\")\n",
    "print(duplicate_rows)"
   ]
  },
  {
   "cell_type": "code",
   "execution_count": null,
   "id": "98539d56",
   "metadata": {},
   "outputs": [],
   "source": [
    "#Drop duplicate rows\n",
    "df_youtube_cleaned = df_youtube_dataset.dropna()\n",
    "df_youtube_cleaned.shape"
   ]
  },
  {
   "cell_type": "markdown",
   "id": "84bcac52",
   "metadata": {},
   "source": [
    "**Create new dataframe consisting of only columns of interest**"
   ]
  },
  {
   "cell_type": "code",
   "execution_count": null,
   "id": "c1caab91",
   "metadata": {
    "scrolled": true
   },
   "outputs": [],
   "source": [
    "df_youtube_cleaned.head()"
   ]
  },
  {
   "cell_type": "code",
   "execution_count": null,
   "id": "1353e163",
   "metadata": {},
   "outputs": [],
   "source": [
    "# Keep relevant columns\n",
    "relevant_columns_youtube = ['video_id', 'title', 'view_count', 'likes', 'categoryId', 'dislikes', 'comment_count']\n",
    "df_youtube_filtered = df_youtube_cleaned.loc[:, relevant_columns_youtube]"
   ]
  },
  {
   "cell_type": "code",
   "execution_count": null,
   "id": "d8ce29ea",
   "metadata": {},
   "outputs": [],
   "source": [
    "# Preview first five columns of filtered youtube dataset\n",
    "df_youtube_filtered.head()"
   ]
  },
  {
   "cell_type": "code",
   "execution_count": null,
   "id": "47eae48b",
   "metadata": {},
   "outputs": [],
   "source": [
    "# Retrieve categories from 'US_category_id.json'\n",
    "from IPython.display import display\n",
    "\n",
    "file = open('./US_category_id.json', encoding=\"utf8\")\n",
    "category_data_youtube = json.load(file)\n",
    "# Close file\n",
    "file.close()\n",
    "\n",
    "display(category_data_youtube)"
   ]
  },
  {
   "cell_type": "code",
   "execution_count": null,
   "id": "e1211419",
   "metadata": {},
   "outputs": [],
   "source": [
    "# Create dictionary to map category IDs to titles\n",
    "category_mapping = {item['id']: item['snippet']['title'] for item in category_data_youtube['items']}\n",
    "# Convert keys from strings to integers\n",
    "category_mapping = {int(key): value for key, value in category_mapping.items()}\n",
    "\n",
    "\n",
    "print(category_mapping)"
   ]
  },
  {
   "cell_type": "code",
   "execution_count": null,
   "id": "221aae96",
   "metadata": {},
   "outputs": [],
   "source": [
    "# Create new column 'category_name' by mapping category IDs to titles\n",
    "df_youtube_filtered['category_name'] = df_youtube_filtered['categoryId'].map(category_mapping)"
   ]
  },
  {
   "cell_type": "code",
   "execution_count": null,
   "id": "77b4b725",
   "metadata": {},
   "outputs": [],
   "source": [
    "# Now remove 'categoryId' column from dataframe\n",
    "df_youtube_filtered.drop(columns=['categoryId'], inplace=True)"
   ]
  },
  {
   "cell_type": "code",
   "execution_count": null,
   "id": "f51ad557",
   "metadata": {},
   "outputs": [],
   "source": [
    "# Check for missing values in all columns\n",
    "missing_values_per_column = df_youtube_filtered.isna().any()\n",
    "\n",
    "# Print columns with missing values\n",
    "columns_with_missing_values = missing_values_per_column[missing_values_per_column].index.tolist()\n",
    "if columns_with_missing_values:\n",
    "    print(\"Columns with missing values:\", columns_with_missing_values)\n",
    "else:\n",
    "    print(\"No missing values\")\n"
   ]
  },
  {
   "cell_type": "markdown",
   "id": "ce20d548",
   "metadata": {},
   "source": [
    "**Visualising the data**"
   ]
  },
  {
   "cell_type": "code",
   "execution_count": null,
   "id": "83d27a85",
   "metadata": {},
   "outputs": [],
   "source": [
    "# Plot distribution of videos by category\n",
    "plt.figure(figsize=(12, 6))\n",
    "sns.countplot(data=df_youtube_filtered, y='category_name', order=df_youtube_filtered['category_name'].value_counts().index)\n",
    "plt.title('Distribution of Videos by Category')\n",
    "plt.show()"
   ]
  },
  {
   "cell_type": "code",
   "execution_count": null,
   "id": "7eade288",
   "metadata": {},
   "outputs": [],
   "source": [
    "# Plot average user engagement per video by category\n",
    "engagement_metrics = ['view_count', 'likes', 'dislikes', 'comment_count']\n",
    "category_engagement = df_youtube_filtered.groupby('category_name')[engagement_metrics].sum()\n",
    "# Calculate the total number of videos in each category\n",
    "category_video_count = df_youtube_filtered['category_name'].value_counts()\n",
    "\n",
    "# Calculate the average engagement per video\n",
    "category_avg_engagement = category_engagement.div(category_video_count, axis=0)\n",
    "\n",
    "#\n",
    "sorted_category_avg_engagement = category_avg_engagement.sort_values(by=engagement_metrics, ascending=False)\n",
    "\n",
    "# Plotting the distribution\n",
    "#category_engagement.plot(kind='bar', figsize=(12, 6))\n",
    "sorted_category_avg_engagement.plot(kind='bar', figsize=(12, 6))\n",
    "plt.title('Average User Engagement per Video by Category')\n",
    "plt.xlabel('Category')\n",
    "plt.ylabel('Average User Engagement')\n",
    "plt.xticks(rotation=45, ha='right')\n",
    "plt.legend(engagement_metrics)\n",
    "plt.show()"
   ]
  },
  {
   "cell_type": "markdown",
   "id": "be057116",
   "metadata": {},
   "source": [
    "**Removing rows with non-English titles from YouTube dataset**"
   ]
  },
  {
   "cell_type": "code",
   "execution_count": null,
   "id": "c4aa8111",
   "metadata": {},
   "outputs": [],
   "source": [
    "# Function to detect language of text using langid\n",
    "def detect_language(text):\n",
    "    language, confidence = langid.classify(text)\n",
    "    return language"
   ]
  },
  {
   "cell_type": "code",
   "execution_count": null,
   "id": "1dff4da6",
   "metadata": {},
   "outputs": [],
   "source": [
    "# Apply language detection to the 'title' column\n",
    "df_youtube_filtered['language'] = df_youtube_filtered['title'].apply(detect_language)"
   ]
  },
  {
   "cell_type": "code",
   "execution_count": null,
   "id": "f37df985",
   "metadata": {},
   "outputs": [],
   "source": [
    "df_youtube_filtered.head()"
   ]
  },
  {
   "cell_type": "code",
   "execution_count": null,
   "id": "d84c60f8",
   "metadata": {},
   "outputs": [],
   "source": [
    "# Filter out non-English rows\n",
    "df_youtube_filtered = df_youtube_filtered[df_youtube_filtered['language'] == 'en']"
   ]
  },
  {
   "cell_type": "code",
   "execution_count": null,
   "id": "cabbd4ea",
   "metadata": {},
   "outputs": [],
   "source": [
    "# Check result of filtering on video distribution\n",
    "plt.figure(figsize=(12, 6))\n",
    "sns.countplot(data=df_youtube_filtered, y='category_name', order=df_youtube_filtered['category_name'].value_counts().index)\n",
    "plt.title('Distribution of Videos by Category')\n",
    "plt.show()"
   ]
  },
  {
   "cell_type": "code",
   "execution_count": null,
   "id": "4de317e9",
   "metadata": {},
   "outputs": [],
   "source": [
    "#Check result of filtering on average user engagement per video by category\n",
    "engagement_metrics = ['view_count', 'likes', 'dislikes', 'comment_count']\n",
    "category_engagement = df_youtube_filtered.groupby('category_name')[engagement_metrics].sum()\n",
    "# Calculate the total number of videos in each category\n",
    "category_video_count = df_youtube_filtered['category_name'].value_counts()\n",
    "\n",
    "# Calculate the average engagement per video\n",
    "category_avg_engagement = category_engagement.div(category_video_count, axis=0)\n",
    "\n",
    "#\n",
    "sorted_category_avg_engagement = category_avg_engagement.sort_values(by=engagement_metrics, ascending=False)\n",
    "\n",
    "# Plotting the distribution\n",
    "#category_engagement.plot(kind='bar', figsize=(12, 6))\n",
    "sorted_category_avg_engagement.plot(kind='bar', figsize=(12, 6))\n",
    "plt.title('Average User Engagement per Video by Category')\n",
    "plt.xlabel('Category')\n",
    "plt.ylabel('Average User Engagement')\n",
    "plt.xticks(rotation=45, ha='right')\n",
    "plt.legend(engagement_metrics)\n",
    "plt.show()"
   ]
  },
  {
   "cell_type": "markdown",
   "id": "c5ca503d",
   "metadata": {},
   "source": [
    "**Sentiment analysis with VADER**"
   ]
  },
  {
   "cell_type": "code",
   "execution_count": null,
   "id": "44857b92",
   "metadata": {},
   "outputs": [],
   "source": [
    "#Preprocessing function\n",
    "def clean_text(text):\n",
    "    # Make text lowercase\n",
    "    text = text.lower()\n",
    "    \n",
    "    # Remove hashtags\n",
    "    text = re.sub(r'#\\w+', '', text)\n",
    "    \n",
    "    # Remove punctuation\n",
    "    text = re.sub(r'[^\\w\\s]', '', text)\n",
    "    \n",
    "     # Remove numbers\n",
    "    text = re.sub(r'\\d+', '', text)\n",
    "    \n",
    "    # Tokenization\n",
    "    tokens = word_tokenize(text)\n",
    "    \n",
    "    # Remove stopwords\n",
    "    stop_words = set(stopwords.words('english'))\n",
    "    tokens = [word for word in tokens if word not in stop_words]\n",
    "    \n",
    "    # Join the tokens back into a preprocessed text\n",
    "    cleaned_text = ' '.join(tokens)\n",
    "    \n",
    "    return cleaned_text"
   ]
  },
  {
   "cell_type": "code",
   "execution_count": null,
   "id": "b8494bd8",
   "metadata": {},
   "outputs": [],
   "source": [
    "# Function to calculate sentiment\n",
    "def calculate_sentiment(text):\n",
    "    analyzer = SentimentIntensityAnalyzer()\n",
    "    sentiment_scores = analyzer.polarity_scores(text)\n",
    "    compound_score = sentiment_scores['compound']\n",
    "\n",
    "    # Assign sentiment labels based on the compound score\n",
    "    if compound_score >= 0.05:\n",
    "        return 'positive'\n",
    "    elif compound_score <= -0.05:\n",
    "        return 'negative'\n",
    "    else:\n",
    "        return 'neutral'"
   ]
  },
  {
   "cell_type": "code",
   "execution_count": null,
   "id": "0c8b52b8",
   "metadata": {},
   "outputs": [],
   "source": [
    "# Create copy of dataframe before using vader\n",
    "df_youtube_vader = df_youtube_filtered.copy()"
   ]
  },
  {
   "cell_type": "code",
   "execution_count": null,
   "id": "039d3267",
   "metadata": {},
   "outputs": [],
   "source": [
    "#Apply preprocessing and tokenisation to title column of youtube dataset\n",
    "df_youtube_vader['sentiment'] = df_youtube_vader['title'].apply(calculate_sentiment)"
   ]
  },
  {
   "cell_type": "code",
   "execution_count": null,
   "id": "3bac807c",
   "metadata": {},
   "outputs": [],
   "source": [
    "df_youtube_vader.head()"
   ]
  },
  {
   "cell_type": "code",
   "execution_count": null,
   "id": "042221b9",
   "metadata": {},
   "outputs": [],
   "source": [
    "# Group the dataframe by sentiment and category_name\n",
    "grouped = df_youtube_vader.groupby(['sentiment', 'category_name'])\n",
    "\n",
    "# Function to select top five videos and extract their titles, categories, and sentiments from each group\n",
    "def top_five_info(group):\n",
    "    top_videos = group.nlargest(1, 'view_count')\n",
    "    return top_videos[['title', 'category_name', 'sentiment']]\n",
    "\n",
    "# Apply the function to each group and reset the index\n",
    "top_videos_info = grouped.apply(top_five_info).reset_index(drop=True)\n",
    "\n",
    "# Display the resulting dataframe with titles, categories, and sentiments\n",
    "print(top_videos_info"
   ]
  },
  {
   "cell_type": "code",
   "execution_count": null,
   "id": "95134ee9",
   "metadata": {},
   "outputs": [],
   "source": [
    "# Print sentiment distribution\n",
    "sentiment_counts = df_youtube_vader['sentiment'].value_counts()\n",
    "\n",
    "print(sentiment_counts)"
   ]
  },
  {
   "cell_type": "code",
   "execution_count": null,
   "id": "a9c75bf3",
   "metadata": {},
   "outputs": [],
   "source": [
    "# Calculate sentiment distribution for each category\n",
    "sentiment_distribution = df_youtube_vader.groupby(['category_name', 'sentiment']).size().unstack(fill_value=0)\n",
    "\n",
    "# Plot the sentiment distribution\n",
    "sentiment_distribution.plot(kind='bar', stacked=True, figsize=(10, 6))\n",
    "plt.title('Distribution of Sentiments by Category')\n",
    "plt.xlabel('Category')\n",
    "plt.ylabel('Number of Videos')\n",
    "plt.xticks(rotation=45, ha='right')\n",
    "plt.legend(title='Sentiment')\n",
    "plt.show()"
   ]
  },
  {
   "cell_type": "code",
   "execution_count": null,
   "id": "2f86392c",
   "metadata": {},
   "outputs": [],
   "source": [
    "# Calculate sentiment distribution for each category\n",
    "sentiment_distribution = df_youtube_vader.groupby(['category_name', 'sentiment']).size().unstack(fill_value=0)\n",
    "\n",
    "# Calculate the total number of videos in each category\n",
    "total_videos_per_category = sentiment_distribution.sum(axis=1)\n",
    "\n",
    "# Calculate proportions of each sentiment category relative to total videos\n",
    "proportions = sentiment_distribution.divide(total_videos_per_category, axis=0)\n",
    "\n",
    "# Plot the proportion of positive sentiments relative to total videos\n",
    "positive_proportions = proportions['positive'].sort_values(ascending=False)\n",
    "positive_proportions.plot(kind='bar', figsize=(10, 6))\n",
    "plt.title('Proportion of Positive Sentiments by Category')\n",
    "plt.xlabel('Category')\n",
    "plt.ylabel('Proportion of Videos')\n",
    "plt.xticks(rotation=45, ha='right')\n",
    "plt.show()"
   ]
  },
  {
   "cell_type": "code",
   "execution_count": null,
   "id": "0cc2c30f",
   "metadata": {},
   "outputs": [],
   "source": [
    "# Plot the proportion of negative sentiments relative to total videos\n",
    "negative_proportions = proportions['negative'].sort_values(ascending=False)\n",
    "negative_proportions.plot(kind='bar', figsize=(10, 6))\n",
    "plt.title('Proportion of Negative Sentiments by Category')\n",
    "plt.xlabel('Category')\n",
    "plt.ylabel('Proportion of Videos')\n",
    "plt.xticks(rotation=45, ha='right')\n",
    "plt.show()"
   ]
  },
  {
   "cell_type": "code",
   "execution_count": null,
   "id": "fb5fb9c8",
   "metadata": {},
   "outputs": [],
   "source": [
    "# Plot the proportion of neutral sentiments relative to total videos\n",
    "neutral_proportions = proportions['neutral'].sort_values(ascending=False)\n",
    "neutral_proportions.plot(kind='bar', figsize=(10, 6))\n",
    "plt.title('Proportion of Neutral Sentiments by Category')\n",
    "plt.xlabel('Category')\n",
    "plt.ylabel('Proportion of Videos')\n",
    "plt.xticks(rotation=45, ha='right')\n",
    "plt.show()"
   ]
  },
  {
   "cell_type": "code",
   "execution_count": null,
   "id": "9425b87f",
   "metadata": {},
   "outputs": [],
   "source": [
    "# Calculate sentiment distribution for each category\n",
    "sentiment_distribution = df_youtube_vader.groupby(['category_name', 'sentiment']).size().unstack(fill_value=0)\n",
    "\n",
    "# Calculate the total number of videos in each category\n",
    "total_videos_per_category = sentiment_distribution.sum(axis=1)\n",
    "\n",
    "# Calculate the proportion of negative sentiments relative to total videos\n",
    "negative_proportions = sentiment_distribution['negative'] / total_videos_per_category\n",
    "\n",
    "# Sort the negative proportions in descending order\n",
    "sorted_negative_proportions = negative_proportions.sort_values(ascending=False)\n",
    "\n",
    "# Create a pie chart\n",
    "plt.figure(figsize=(8, 8))\n",
    "plt.pie(sorted_negative_proportions, labels=sorted_negative_proportions.index, autopct='%1.1f%%', startangle=140, colors=plt.cm.Paired.colors)\n",
    "plt.title('Proportion of Negative Sentiments by Category')\n",
    "plt.show()\n"
   ]
  },
  {
   "cell_type": "code",
   "execution_count": null,
   "id": "918654ab",
   "metadata": {},
   "outputs": [],
   "source": [
    "#Calculate average user engagement per category by sentiment\n",
    "# Calculate the total engagement for each row and store it in a separate Series\n",
    "df_youtube_vader['engagement'] = df_youtube_vader[engagement_metrics].sum(axis=1)\n",
    "\n",
    "# Group by category and sentiment to get average engagement\n",
    "average_engagement_by_sentiment = df_youtube_vader.groupby(['category_name', 'sentiment'])['engagement'].mean().unstack(fill_value=0)\n",
    "\n",
    "# Plot the bar graph\n",
    "average_engagement_by_sentiment.plot(kind='bar', figsize=(12, 6))\n",
    "plt.title('Average User Engagement per Category by Sentiment')\n",
    "plt.xlabel('Category')\n",
    "plt.ylabel('Average User Engagement')\n",
    "plt.xticks(rotation=45, ha='right')\n",
    "plt.legend(title='Sentiment')\n",
    "plt.show()"
   ]
  },
  {
   "cell_type": "code",
   "execution_count": null,
   "id": "3b8c9248",
   "metadata": {},
   "outputs": [],
   "source": [
    "# Calculate the average engagement for each sentiment across all categories\n",
    "average_engagement_across_sentiments = average_engagement_by_sentiment.mean()\n",
    "\n",
    "# Sort the sentiments based on their average engagement values\n",
    "sorted_sentiments = average_engagement_across_sentiments.sort_values(ascending=False).index\n",
    "\n",
    "# Plot the sorted sentiments against their average engagement values\n",
    "plt.figure(figsize=(10, 6))\n",
    "plt.bar(sorted_sentiments, average_engagement_across_sentiments[sorted_sentiments])\n",
    "plt.title('Average Engagement Rate Across Sentiments')\n",
    "plt.xlabel('Sentiment')\n",
    "plt.ylabel('Average Engagement Rate')\n",
    "plt.xticks(rotation=45, ha='right')\n",
    "plt.show()"
   ]
  },
  {
   "cell_type": "code",
   "execution_count": null,
   "id": "ad586ac8",
   "metadata": {},
   "outputs": [],
   "source": [
    "# Calculate the total average engagement across all sentiments\n",
    "total_average_engagement = average_engagement_across_sentiments.sum()\n",
    "\n",
    "# Calculate the percentage of average engagement for each sentiment\n",
    "percentage_engagement = (average_engagement_across_sentiments / total_average_engagement) * 100\n",
    "\n",
    "# Create a pie chart\n",
    "plt.figure(figsize=(8, 8))\n",
    "plt.pie(percentage_engagement, labels=percentage_engagement.index, autopct='%.1f%%', startangle=140)\n",
    "plt.title('Distribution of Average Engagement Rate Across Sentiments')\n",
    "plt.show()"
   ]
  },
  {
   "cell_type": "code",
   "execution_count": null,
   "id": "f0e66cdf",
   "metadata": {},
   "outputs": [],
   "source": [
    "# Group by sentiment and calculate the sum of likes, dislikes, and comments\n",
    "sentiment_metrics = ['likes', 'dislikes', 'comment_count']\n",
    "sentiment_engagement = df_youtube_vader.groupby('sentiment')[sentiment_metrics].sum()\n",
    "\n",
    "# Plot the stacked bar graph\n",
    "sentiment_engagement.plot(kind='bar', stacked=True, figsize=(12, 6))\n",
    "plt.title('Sentiment vs User Engagement')\n",
    "plt.xlabel('Sentiment')\n",
    "plt.ylabel('Total User Engagement')\n",
    "plt.xticks(rotation=0)\n",
    "plt.legend(title='Engagement Metrics')\n",
    "plt.show()\n"
   ]
  },
  {
   "cell_type": "markdown",
   "id": "b73a63df",
   "metadata": {},
   "source": [
    "**Importing tiktok dataset**"
   ]
  },
  {
   "cell_type": "code",
   "execution_count": null,
   "id": "d9822848",
   "metadata": {},
   "outputs": [],
   "source": [
    "# Load tiktok dataset \n",
    "file = open('./trending.json', encoding=\"utf8\")\n",
    "raw_data = json.load(file)\n",
    "# Close file\n",
    "file.close()\n",
    "\n",
    "# Select list with video data\n",
    "trending_videos_list = raw_data['collector']\n"
   ]
  },
  {
   "cell_type": "code",
   "execution_count": null,
   "id": "ce329ac9",
   "metadata": {},
   "outputs": [],
   "source": [
    "# Create DataFrame\n",
    "df_tiktok_dataset = pd.DataFrame(trending_videos_list)\n",
    "\n",
    "df_tiktok_dataset.head()\n"
   ]
  },
  {
   "cell_type": "code",
   "execution_count": null,
   "id": "f7fdda5c",
   "metadata": {},
   "outputs": [],
   "source": [
    "# Keep relevant columns\n",
    "relevant_columns_tiktok = ['id', 'text', 'diggCount', 'playCount', 'shareCount', 'commentCount']\n",
    "df_tiktok_filtered = df_tiktok_dataset.loc[:, relevant_columns_tiktok]\n",
    "df_tiktok_filtered.head()"
   ]
  },
  {
   "cell_type": "markdown",
   "id": "84a82638",
   "metadata": {},
   "source": [
    "**Inspecting dataset**"
   ]
  },
  {
   "cell_type": "code",
   "execution_count": null,
   "id": "0ed3eb99",
   "metadata": {},
   "outputs": [],
   "source": [
    "# Check for duplicates in filtered tiktok dataset\n",
    "df_tiktok_filtered['text'].describe()\n"
   ]
  },
  {
   "cell_type": "code",
   "execution_count": null,
   "id": "b9eded78",
   "metadata": {},
   "outputs": [],
   "source": [
    "#Drop duplicates in text column of tiktok dataset\n",
    "df_tiktok_filtered.drop_duplicates(inplace=True)\n"
   ]
  },
  {
   "cell_type": "code",
   "execution_count": null,
   "id": "1ead13d7",
   "metadata": {},
   "outputs": [],
   "source": [
    "df_tiktok_filtered.head(20)"
   ]
  },
  {
   "cell_type": "markdown",
   "id": "2b933c46",
   "metadata": {},
   "source": [
    "**Remove rows with non-English text in tiktok dataset**"
   ]
  },
  {
   "cell_type": "code",
   "execution_count": null,
   "id": "308b8e17",
   "metadata": {},
   "outputs": [],
   "source": [
    "# Apply language detection to the 'text' column\n",
    "df_tiktok_filtered['language'] = df_tiktok_filtered['text'].apply(detect_language)\n",
    "\n",
    "# Display rows with non-English text\n",
    "non_english_rows_tiktok = df_tiktok_filtered[df_tiktok_filtered['language'] != 'en']\n",
    "print(non_english_rows_tiktok[['id', 'text', 'language']])\n",
    "\n"
   ]
  },
  {
   "cell_type": "code",
   "execution_count": null,
   "id": "3de3f2e7",
   "metadata": {},
   "outputs": [],
   "source": [
    "# Filter out non-English rows\n",
    "df_tiktok_filtered = df_tiktok_filtered[df_tiktok_filtered['language'] == 'en']"
   ]
  },
  {
   "cell_type": "code",
   "execution_count": null,
   "id": "62fb3e36",
   "metadata": {},
   "outputs": [],
   "source": [
    "# Save TikTok dataset as csv\n",
    "df_tiktok_dataset.to_csv('tiktok_dataset.csv', index=False)"
   ]
  },
  {
   "cell_type": "markdown",
   "id": "d3862d17",
   "metadata": {},
   "source": [
    "**Sentiment analysis**"
   ]
  },
  {
   "cell_type": "code",
   "execution_count": null,
   "id": "c51a7f47",
   "metadata": {},
   "outputs": [],
   "source": [
    "df_tiktok_filtered['cleaned_text'] = df_tiktok_filtered['text'].apply(clean_text)"
   ]
  },
  {
   "cell_type": "markdown",
   "id": "f36d4c67",
   "metadata": {},
   "source": [
    "**Apply sentiment analysis to datasets**"
   ]
  },
  {
   "cell_type": "code",
   "execution_count": null,
   "id": "e19768ac",
   "metadata": {},
   "outputs": [],
   "source": [
    "df_tiktok_vader = df_tiktok_filtered.copy()"
   ]
  },
  {
   "cell_type": "code",
   "execution_count": null,
   "id": "0b414bdc",
   "metadata": {},
   "outputs": [],
   "source": [
    "df_tiktok_vader['sentiment'] = df_tiktok_vader['text'].apply(calculate_sentiment)"
   ]
  },
  {
   "cell_type": "markdown",
   "id": "db1b1132",
   "metadata": {},
   "source": [
    "**Engagement analysis**"
   ]
  },
  {
   "cell_type": "code",
   "execution_count": null,
   "id": "7bf46d9f",
   "metadata": {},
   "outputs": [],
   "source": [
    "wordcloud = WordCloud(width=800, height=800, background_color='black', max_words=30).generate(' '.join(df_tiktok_filtered['cleaned_text']))\n",
    "\n",
    "# Plot the word cloud\n",
    "plt.figure(figsize=(8, 8))\n",
    "plt.imshow(wordcloud, interpolation='bilinear')\n",
    "plt.axis('off')\n",
    "plt.title('Word Cloud of Cleaned Titles (TikTok)')\n",
    "plt.show()"
   ]
  },
  {
   "cell_type": "code",
   "execution_count": null,
   "id": "664b02b3",
   "metadata": {},
   "outputs": [],
   "source": [
    "plt.figure(figsize=(10, 6))\n",
    "sns.set_style(\"whitegrid\")\n",
    "ax = sns.countplot(x=\"sentiment\", data=df_tiktok_vader)\n",
    "plt.title(\"Distribution of Sentiment Types in TikTok Titles\")\n",
    "plt.xlabel(\"Sentiment Category\")\n",
    "plt.ylabel(\"Count\")\n",
    "plt.show()\n"
   ]
  },
  {
   "cell_type": "code",
   "execution_count": null,
   "id": "e46b307f",
   "metadata": {},
   "outputs": [],
   "source": [
    "# Step 3: Visualize the sentiment distribution of the most liked videos\n",
    "plt.figure(figsize=(10, 6))\n",
    "sns.set_style(\"whitegrid\")\n",
    "sns.countplot(data=most_liked_videos, x='sentiment_category')\n",
    "plt.title(\"Sentiment Distribution of Most Liked YouTube Videos\")\n",
    "plt.xlabel(\"Sentiment Category\")\n",
    "plt.ylabel(\"Count\")\n",
    "plt.show()"
   ]
  },
  {
   "cell_type": "code",
   "execution_count": null,
   "id": "140cb4b2",
   "metadata": {},
   "outputs": [],
   "source": [
    "sentiment_counts = df_tiktok_vader['sentiment'].value_counts()\n",
    "\n",
    "print(sentiment_counts)\n"
   ]
  },
  {
   "cell_type": "code",
   "execution_count": null,
   "id": "d2f74b6d",
   "metadata": {},
   "outputs": [],
   "source": [
    "\n",
    "sentiment_distribution = df_tiktok_vader.groupby('sentiment').size()\n",
    "sentiment_distribution.plot(kind='bar')\n",
    "plt.title('Distribution of Sentiments across Videos')\n",
    "plt.xlabel('Sentiment')\n",
    "plt.ylabel('Number of Videos')\n",
    "plt.xticks(rotation=0)\n",
    "plt.show()\n"
   ]
  },
  {
   "cell_type": "code",
   "execution_count": null,
   "id": "8d7af7c0",
   "metadata": {},
   "outputs": [],
   "source": [
    "# Calculate total user engagement for each row\n",
    "engagement_metrics = ['diggCount', 'playCount', 'shareCount', 'commentCount']\n",
    "df_tiktok_vader['total_engagement'] = df_tiktok_vader[engagement_metrics].sum(axis=1)\n",
    "\n",
    "# Group by sentiment and calculate the mean user engagement for each sentiment\n",
    "mean_engagement_by_sentiment = df_tiktok_vader.groupby('sentiment')['total_engagement'].mean()\n",
    "\n",
    "# Create a bar graph\n",
    "plt.figure(figsize=(8, 5))\n",
    "mean_engagement_by_sentiment.plot(kind='bar')\n",
    "plt.xlabel('Sentiment')\n",
    "plt.ylabel('Average User Engagement')\n",
    "plt.title('Distribution of Sentiments Across Average User Engagement')\n",
    "plt.xticks(rotation=0)\n",
    "plt.show()"
   ]
  },
  {
   "cell_type": "code",
   "execution_count": null,
   "id": "4e534add",
   "metadata": {
    "scrolled": false
   },
   "outputs": [],
   "source": [
    "# Calculate total user engagement for each row\n",
    "engagement_metrics = ['diggCount', 'playCount', 'shareCount', 'commentCount']\n",
    "df_tiktok_vader['total_engagement'] = df_tiktok_vader[engagement_metrics].sum(axis=1)\n",
    "\n",
    "# Group by sentiment and calculate average user engagement\n",
    "average_engagement_by_sentiment = df_tiktok_vader.groupby('sentiment')['total_engagement'].mean()\n",
    "\n",
    "# Group by sentiment and count the number of videos in each sentiment category\n",
    "sentiment_counts = df_tiktok_vader['sentiment'].value_counts()\n",
    "\n",
    "# Calculate the average user engagement per video in each sentiment category\n",
    "average_engagement_per_video = average_engagement_by_sentiment / sentiment_counts\n",
    "\n",
    "# Plot the graph\n",
    "fig, ax1 = plt.subplots(figsize=(10, 6))\n",
    "\n",
    "# Bar plot for sentiment distribution\n",
    "ax1.bar(average_engagement_per_video.index, sentiment_counts, color='b', label='Sentiment Distribution')\n",
    "ax1.set_xlabel('Sentiment')\n",
    "ax1.set_ylabel('Number of Videos', color='b')\n",
    "ax1.tick_params('y', colors='b')\n",
    "\n",
    "# Line plot for average user engagement\n",
    "ax2 = ax1.twinx()\n",
    "ax2.plot(average_engagement_per_video.index, average_engagement_per_video, color='r', marker='o', label='Avg User Engagement')\n",
    "ax2.set_ylabel('Average User Engagement', color='r')\n",
    "ax2.tick_params('y', colors='r')\n",
    "\n",
    "# Add legend and title\n",
    "fig.tight_layout()\n",
    "fig.legend(loc='upper left', bbox_to_anchor=(0.15, 0.9))\n",
    "plt.title('Sentiment Distribution vs Average User Engagement')\n",
    "\n",
    "plt.show()\n"
   ]
  },
  {
   "cell_type": "code",
   "execution_count": null,
   "id": "355b9e0d",
   "metadata": {},
   "outputs": [],
   "source": [
    "# Nine titles from each sentiment category\n",
    "# Sort the DataFrame by total_engagement in descending order\n",
    "df_tiktok_sorted = df_tiktok_vader.sort_values(by='total_engagement', ascending=False)\n",
    "\n",
    "# Group by sentiment and get the top 5 titles with highest user engagement for each sentiment\n",
    "top_titles_by_sentiment = df_tiktok_sorted.groupby('sentiment').head(9)[['text', 'sentiment', 'total_engagement']]\n",
    "\n",
    "print(top_titles_by_sentiment)\n"
   ]
  },
  {
   "cell_type": "code",
   "execution_count": null,
   "id": "7b8799c9",
   "metadata": {},
   "outputs": [],
   "source": [
    "# Total engagement per sentiment category\n",
    "engagement_metrics = ['diggCount', 'playCount', 'shareCount', 'commentCount']\n",
    "\n",
    "# Group the DataFrame by 'sentiment' and calculate the sum of engagement metrics\n",
    "total_engagement_per_sentiment = df_tiktok_vader.groupby('sentiment')[engagement_metrics].sum()\n",
    "\n",
    "# Plotting the bar graph\n",
    "total_engagement_per_sentiment.plot(kind='bar', figsize=(10, 6))\n",
    "plt.title('Total Engagement per Sentiment Category')\n",
    "plt.xlabel('Sentiment')\n",
    "plt.ylabel('Total Engagement')\n",
    "plt.xticks(rotation=0)\n",
    "plt.legend(title='Engagement Metric')\n",
    "plt.show()"
   ]
  }
 ],
 "metadata": {
  "kernelspec": {
   "display_name": "Python 3 (ipykernel)",
   "language": "python",
   "name": "python3"
  },
  "language_info": {
   "codemirror_mode": {
    "name": "ipython",
    "version": 3
   },
   "file_extension": ".py",
   "mimetype": "text/x-python",
   "name": "python",
   "nbconvert_exporter": "python",
   "pygments_lexer": "ipython3",
   "version": "3.9.13"
  }
 },
 "nbformat": 4,
 "nbformat_minor": 5
}
